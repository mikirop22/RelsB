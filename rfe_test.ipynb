{
 "cells": [
  {
   "cell_type": "code",
   "execution_count": null,
   "metadata": {
    "vscode": {
     "languageId": "plaintext"
    }
   },
   "outputs": [],
   "source": [
    "from sklearn.feature_selection import RFE\n",
    "from sklearn.model_selection import train_test_split\n",
    "\n",
    "# Define the model (already done in your code)\n",
    "model = LGBMRegressor(\n",
    "    n_estimators=100,\n",
    "    learning_rate=0.1,\n",
    "    max_depth=7,\n",
    "    random_state=42,\n",
    ")\n",
    "\n",
    "# Perform RFE\n",
    "selector = RFE(estimator=model, n_features_to_select=10)  # Set n_features_to_select to the number of features you want\n",
    "selector = selector.fit(X_train[numeric_features], y_train)\n",
    "\n",
    "# Get the selected features\n",
    "selected_features = np.array(numeric_features)[selector.support_]\n",
    "\n",
    "# Print the selected features\n",
    "print(\"Selected features:\", selected_features)\n",
    "\n",
    "# Train the model again using only the selected features\n",
    "model.fit(X_train[selected_features], y_train)\n",
    "\n",
    "# Calculate performance metrics again with the selected features\n",
    "train_pred = model.predict(X_train[selected_features])\n",
    "val_pred = model.predict(X_val[selected_features])\n",
    "\n",
    "metrics = {\n",
    "    'train_rmse': np.sqrt(mean_squared_error(y_train, train_pred)),\n",
    "    'val_rmse': np.sqrt(mean_squared_error(y_val, val_pred)),\n",
    "    'train_r2': r2_score(y_train, train_pred),\n",
    "    'val_r2': r2_score(y_val, val_pred)\n",
    "}\n",
    "\n",
    "print(metrics)\n"
   ]
  }
 ],
 "metadata": {
  "language_info": {
   "name": "python"
  }
 },
 "nbformat": 4,
 "nbformat_minor": 2
}
